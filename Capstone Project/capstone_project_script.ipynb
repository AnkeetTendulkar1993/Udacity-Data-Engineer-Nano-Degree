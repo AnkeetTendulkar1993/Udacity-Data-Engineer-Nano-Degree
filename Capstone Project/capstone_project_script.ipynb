{
 "cells": [
  {
   "cell_type": "markdown",
   "metadata": {
    "editable": true
   },
   "source": [
    "### Data Engineering Capstone Project\n",
    "\n",
    "#### Project Summary\n",
    "\n",
    "This project focuses on providing a solution to perform analytics to identify trends and patterns on US Immigration data based on demographics, temperatures and airports. This project will help answer questions like which is the most prominent race which traveled to a specific city or state in the US during a certain time period in the year, are people traveling to colder regions or warmer regions and at what time during the year, etc.\n",
    "\n",
    "The project follows the follow steps:\n",
    "* Step 1: Scope the Project and Gather Data\n",
    "* Step 2: Explore and Assess the Data\n",
    "* Step 3: Define the Data Model\n",
    "* Step 4: Run ETL to Model the Data\n",
    "* Step 5: Complete Project Write Up"
   ]
  },
  {
   "cell_type": "code",
   "execution_count": 2,
   "metadata": {
    "editable": true
   },
   "outputs": [],
   "source": [
    "# Do all imports and installs here\n",
    "from pyspark.sql import SparkSession\n",
    "from pyspark.sql.functions import *\n",
    "from pyspark.sql.functions import isnull, when, count, col\n",
    "from pyspark.sql.functions import monotonically_increasing_id\n",
    "from pyspark.sql.types import TimestampType, StringType\n",
    "from pyspark.sql.functions import udf\n",
    "import matplotlib.pyplot as plt\n",
    "import pandas as pd"
   ]
  },
  {
   "cell_type": "markdown",
   "metadata": {
    "editable": true
   },
   "source": [
    "### Step 1: Scope the Project and Gather Data\n",
    "\n",
    "#### Project Scope\n",
    "\n",
    "In order to support analytics on the US Immigration Data this project focuses on designing and building a data model using the US demographics, airport and temperature data. In order to support such analytics a Star Schema needs to be built based on the data provided. Data will have to be collected from multiple sources and explored and cleaned. Once this is done a Data Model will have to be created for the Star Schema and the corresponding dimension and fact tables will have to be defined and created. An ETL Pipeline will have to be setup in order to populate the dimension and fact tables in the Star Schema. Data Quality checks need to be performed to check for the completeness and accuracy of the data. \n",
    "\n",
    "#### Data Description \n",
    "\n",
    "Below are the available datasets used for this project.\n",
    "\n",
    "##### I94 Immigration Data\n",
    "This includes the US National Tourism and Trade office data. This data consists of immigration information about passangers entering and leaving the United States and specific details information about their travel.\n",
    "\n",
    "##### World Temperature Data\n",
    "This data is collected from Kaggle. It consists of data about each city and corresponding temperature related data.\n",
    "\n",
    "##### U.S. City Demographic Data\n",
    "This data comes from open data soft. It consists of data related to demographics in each city in the United States.\n",
    "\n",
    "##### Airport Code Data\n",
    "This consists of detailed data related to all the airports in the United States.\n"
   ]
  },
  {
   "cell_type": "markdown",
   "metadata": {
    "editable": true
   },
   "source": [
    "### Step 2: Explore and Assess the Data\n",
    "#### Explore the Data \n",
    "Identify data quality issues, like missing values, duplicate data, etc.\n",
    "\n",
    "\n",
    "\n",
    "#### Cleaning Steps\n",
    "Document steps necessary to clean the data"
   ]
  },
  {
   "cell_type": "code",
   "execution_count": 3,
   "metadata": {
    "editable": true
   },
   "outputs": [],
   "source": [
    "# Define Spark Session\n",
    "spark = SparkSession.builder.enableHiveSupport().appName(\"US Immigration Analytics\").getOrCreate()\n",
    "spark.conf.set( \"spark.sql.crossJoin.enabled\" , \"true\" )"
   ]
  },
  {
   "cell_type": "code",
   "execution_count": 4,
   "metadata": {
    "editable": true
   },
   "outputs": [],
   "source": [
    "# Define functions for exploring input data\n",
    "\n",
    "# Check number of null values in each column\n",
    "def check_null_values(input_df):\n",
    "    \"\"\"\n",
    "    This function takes the an input dataframe and displays a bar chart with counts of null values in each column \n",
    "    in the input dataframe.\n",
    "    \n",
    "    :param input_df: Input Spark Dataframe.\n",
    "    \"\"\"\n",
    "    \n",
    "    input_df_null_counts = input_df.select([count(when(isnull(each_column), each_column)).alias(each_column) for each_column in input_df.columns]).toPandas()\n",
    "    \n",
    "    x_values = list(input_df_null_counts.columns)\n",
    "    y_values = input_df_null_counts.values.tolist()[0]\n",
    "    \n",
    "    plt.barh(x_values, y_values, label=\"Null Count\")\n",
    "    \n",
    "    plt.legend()\n",
    "\n",
    "    plt.xlabel('Total Counts')\n",
    "    plt.ylabel('Column Names')\n",
    "    plt.title('Column Null Counts')\n",
    "\n",
    "# Check if duplicates exist in input dataframe\n",
    "def check_for_duplicates(input_df):\n",
    "    \"\"\"\n",
    "    This function takes the an input dataframe and checks if duplicates exist in the input dataframe.\n",
    "    \n",
    "    :param input_df: Input Spark Dataframe.\n",
    "    \"\"\"\n",
    "\n",
    "    if input_df.count() > input_df.dropDuplicates().count():\n",
    "        return int(input_df.count()) - int(input_df.dropDuplicates().count())\n",
    "\n",
    "    return 0"
   ]
  },
  {
   "cell_type": "code",
   "execution_count": 5,
   "metadata": {
    "editable": true
   },
   "outputs": [],
   "source": [
    "# Reading Source Data"
   ]
  },
  {
   "cell_type": "code",
   "execution_count": 6,
   "metadata": {
    "editable": true
   },
   "outputs": [
    {
     "name": "stdout",
     "output_type": "stream",
     "text": [
      "root\n",
      " |-- ident: string (nullable = true)\n",
      " |-- type: string (nullable = true)\n",
      " |-- name: string (nullable = true)\n",
      " |-- elevation_ft: string (nullable = true)\n",
      " |-- continent: string (nullable = true)\n",
      " |-- iso_country: string (nullable = true)\n",
      " |-- iso_region: string (nullable = true)\n",
      " |-- municipality: string (nullable = true)\n",
      " |-- gps_code: string (nullable = true)\n",
      " |-- iata_code: string (nullable = true)\n",
      " |-- local_code: string (nullable = true)\n",
      " |-- coordinates: string (nullable = true)\n",
      "\n"
     ]
    }
   ],
   "source": [
    "# Reading Airport Codes Data\n",
    "df_airport_codes_raw = spark.read.option(\"header\",True).csv(\"airport-codes_csv.csv\")\n",
    "df_airport_codes_raw.printSchema()"
   ]
  },
  {
   "cell_type": "code",
   "execution_count": 6,
   "metadata": {
    "editable": true
   },
   "outputs": [
    {
     "data": {
      "image/png": "[encoded data removed]",
      "text/plain": [
       "<matplotlib.figure.Figure at 0x7f2d36b27ef0>"
      ]
     },
     "metadata": {
      "needs_background": "light"
     },
     "output_type": "display_data"
    }
   ],
   "source": [
    "check_null_values(df_airport_codes_raw)"
   ]
  },
  {
   "cell_type": "code",
   "execution_count": 7,
   "metadata": {
    "editable": true
   },
   "outputs": [
    {
     "name": "stdout",
     "output_type": "stream",
     "text": [
      "Number of duplicates in df_airport_codes_raw = 0\n"
     ]
    }
   ],
   "source": [
    "print(\"Number of duplicates in df_airport_codes_raw = {}\".format(check_for_duplicates(df_airport_codes_raw)))"
   ]
  },
  {
   "cell_type": "code",
   "execution_count": 7,
   "metadata": {
    "editable": true
   },
   "outputs": [
    {
     "name": "stdout",
     "output_type": "stream",
     "text": [
      "root\n",
      " |-- City: string (nullable = true)\n",
      " |-- State: string (nullable = true)\n",
      " |-- Median Age: string (nullable = true)\n",
      " |-- Male Population: string (nullable = true)\n",
      " |-- Female Population: string (nullable = true)\n",
      " |-- Total Population: string (nullable = true)\n",
      " |-- Number of Veterans: string (nullable = true)\n",
      " |-- Foreign-born: string (nullable = true)\n",
      " |-- Average Household Size: string (nullable = true)\n",
      " |-- State Code: string (nullable = true)\n",
      " |-- Race: string (nullable = true)\n",
      " |-- Count: string (nullable = true)\n",
      "\n"
     ]
    }
   ],
   "source": [
    "# Reading Demographics Data\n",
    "df_demographics_raw = spark.read.option(\"header\",True).option(\"delimiter\",\";\").csv(\"us-cities-demographics.csv\")\n",
    "df_demographics_raw.printSchema()"
   ]
  },
  {
   "cell_type": "code",
   "execution_count": 9,
   "metadata": {
    "editable": true
   },
   "outputs": [
    {
     "data": {
      "image/png": "[encoded data removed]",
      "text/plain": [
       "<matplotlib.figure.Figure at 0x7f2d34a95da0>"
      ]
     },
     "metadata": {
      "needs_background": "light"
     },
     "output_type": "display_data"
    }
   ],
   "source": [
    "check_null_values(df_demographics_raw)"
   ]
  },
  {
   "cell_type": "code",
   "execution_count": 10,
   "metadata": {
    "editable": true
   },
   "outputs": [
    {
     "name": "stdout",
     "output_type": "stream",
     "text": [
      "Number of duplicates in df_demographics_raw = 0\n"
     ]
    }
   ],
   "source": [
    "print(\"Number of duplicates in df_demographics_raw = {}\".format(check_for_duplicates(df_demographics_raw)))"
   ]
  },
  {
   "cell_type": "code",
   "execution_count": 8,
   "metadata": {
    "editable": true
   },
   "outputs": [
    {
     "name": "stdout",
     "output_type": "stream",
     "text": [
      "root\n",
      " |-- cicid: double (nullable = true)\n",
      " |-- i94yr: double (nullable = true)\n",
      " |-- i94mon: double (nullable = true)\n",
      " |-- i94cit: double (nullable = true)\n",
      " |-- i94res: double (nullable = true)\n",
      " |-- i94port: string (nullable = true)\n",
      " |-- arrdate: double (nullable = true)\n",
      " |-- i94mode: double (nullable = true)\n",
      " |-- i94addr: string (nullable = true)\n",
      " |-- depdate: double (nullable = true)\n",
      " |-- i94bir: double (nullable = true)\n",
      " |-- i94visa: double (nullable = true)\n",
      " |-- count: double (nullable = true)\n",
      " |-- dtadfile: string (nullable = true)\n",
      " |-- visapost: string (nullable = true)\n",
      " |-- occup: string (nullable = true)\n",
      " |-- entdepa: string (nullable = true)\n",
      " |-- entdepd: string (nullable = true)\n",
      " |-- entdepu: string (nullable = true)\n",
      " |-- matflag: string (nullable = true)\n",
      " |-- biryear: double (nullable = true)\n",
      " |-- dtaddto: string (nullable = true)\n",
      " |-- gender: string (nullable = true)\n",
      " |-- insnum: string (nullable = true)\n",
      " |-- airline: string (nullable = true)\n",
      " |-- admnum: double (nullable = true)\n",
      " |-- fltno: string (nullable = true)\n",
      " |-- visatype: string (nullable = true)\n",
      "\n"
     ]
    }
   ],
   "source": [
    "# Reading Immigration Data\n",
    "df_immigration_raw = spark.read.parquet(\"sas_data/*\").limit(5000)\n",
    "df_immigration_raw.printSchema()"
   ]
  },
  {
   "cell_type": "code",
   "execution_count": 8,
   "metadata": {
    "editable": true
   },
   "outputs": [
    {
     "data": {
      "image/png": "[encoded data removed]",
      "text/plain": [
       "<matplotlib.figure.Figure at 0x7f5df8437c18>"
      ]
     },
     "metadata": {
      "needs_background": "light"
     },
     "output_type": "display_data"
    }
   ],
   "source": [
    "check_null_values(df_immigration_raw)"
   ]
  },
  {
   "cell_type": "code",
   "execution_count": 13,
   "metadata": {
    "editable": true
   },
   "outputs": [
    {
     "name": "stdout",
     "output_type": "stream",
     "text": [
      "Number of duplicates in df_immigration_raw = 0\n"
     ]
    }
   ],
   "source": [
    "print(\"Number of duplicates in df_immigration_raw = {}\".format(check_for_duplicates(df_immigration_raw)))"
   ]
  },
  {
   "cell_type": "code",
   "execution_count": 9,
   "metadata": {
    "editable": true
   },
   "outputs": [],
   "source": [
    "# Removing records with invalid city codes\n",
    "df_immigration = df_immigration_raw.where(\"i94cit not in (403, 712, 700, 719, 574, 720, 106, 739, 394, 501, 404, 730, 731, 471, 737, 753, 740, 710, 505, 0, 705, 583, 407, 999, 239, 134, 506, 755, 311, 741, 54, 100, 187, 190, 200, 219, 238, 277, 293, 300, 319, 365, 395, 400, 485, 503, 589, 592, 791, 849, 914, 944, 996 )\")"
   ]
  },
  {
   "cell_type": "code",
   "execution_count": 10,
   "metadata": {
    "editable": true
   },
   "outputs": [
    {
     "name": "stdout",
     "output_type": "stream",
     "text": [
      "root\n",
      " |-- dt: string (nullable = true)\n",
      " |-- AverageTemperature: string (nullable = true)\n",
      " |-- AverageTemperatureUncertainty: string (nullable = true)\n",
      " |-- City: string (nullable = true)\n",
      " |-- Country: string (nullable = true)\n",
      " |-- Latitude: string (nullable = true)\n",
      " |-- Longitude: string (nullable = true)\n",
      "\n"
     ]
    }
   ],
   "source": [
    "# Reading Temperature Data\n",
    "fname = '../../data2/GlobalLandTemperaturesByCity.csv'\n",
    "df_temperature_raw = spark.read.option(\"header\",True).option(\"delimiter\",\",\").csv(fname)\n",
    "df_temperature_raw.printSchema()"
   ]
  },
  {
   "cell_type": "code",
   "execution_count": 16,
   "metadata": {
    "editable": true
   },
   "outputs": [
    {
     "data": {
      "image/png": "[encoded data removed]",
      "text/plain": [
       "<matplotlib.figure.Figure at 0x7f2d34987e48>"
      ]
     },
     "metadata": {
      "needs_background": "light"
     },
     "output_type": "display_data"
    }
   ],
   "source": [
    "check_null_values(df_temperature_raw)"
   ]
  },
  {
   "cell_type": "code",
   "execution_count": 17,
   "metadata": {
    "editable": true
   },
   "outputs": [
    {
     "name": "stdout",
     "output_type": "stream",
     "text": [
      "Number of duplicates in df_temperature_raw = 0\n"
     ]
    }
   ],
   "source": [
    "print(\"Number of duplicates in df_temperature_raw = {}\".format(check_for_duplicates(df_temperature_raw)))"
   ]
  },
  {
   "cell_type": "code",
   "execution_count": 11,
   "metadata": {
    "editable": true
   },
   "outputs": [],
   "source": [
    "# Dropping records with null values in the Temperature fields\n",
    "df_temperature = df_temperature_raw.na.drop(subset=[\"AverageTemperature\", \"AverageTemperatureUncertainty\"])"
   ]
  },
  {
   "cell_type": "code",
   "execution_count": 12,
   "metadata": {
    "editable": true
   },
   "outputs": [
    {
     "name": "stdout",
     "output_type": "stream",
     "text": [
      "root\n",
      " |-- state_code: string (nullable = true)\n",
      " |-- state_name: string (nullable = true)\n",
      "\n",
      "+----------+-----------------+\n",
      "|state_code|state_name       |\n",
      "+----------+-----------------+\n",
      "|AL        |ALABAMA          |\n",
      "|AK        |ALASKA           |\n",
      "|AZ        |ARIZONA          |\n",
      "|AR        |ARKANSAS         |\n",
      "|CA        |CALIFORNIA       |\n",
      "|CO        |COLORADO         |\n",
      "|CT        |CONNECTICUT      |\n",
      "|DE        |DELAWARE         |\n",
      "|DC        |DIST. OF COLUMBIA|\n",
      "|FL        |FLORIDA          |\n",
      "+----------+-----------------+\n",
      "only showing top 10 rows\n",
      "\n"
     ]
    }
   ],
   "source": [
    "# Reading State Codes\n",
    "df_state_codes = spark.read.option(\"header\", True).csv(\"state_codes.csv\")\n",
    "df_state_codes.createOrReplaceTempView(\"state_codes\")\n",
    "df_state_codes.printSchema()\n",
    "df_state_codes.show(10, False)"
   ]
  },
  {
   "cell_type": "code",
   "execution_count": 13,
   "metadata": {
    "editable": true
   },
   "outputs": [
    {
     "name": "stdout",
     "output_type": "stream",
     "text": [
      "root\n",
      " |-- country_code: string (nullable = true)\n",
      " |-- country_name: string (nullable = true)\n",
      "\n",
      "+------------+---------------------------------------------------------+\n",
      "|country_code|country_name                                             |\n",
      "+------------+---------------------------------------------------------+\n",
      "|582         |MEXICO Air Sea, and Not Reported (I-94, no land arrivals)|\n",
      "|236         |AFGHANISTAN                                              |\n",
      "|101         |ALBANIA                                                  |\n",
      "|316         |ALGERIA                                                  |\n",
      "|102         |ANDORRA                                                  |\n",
      "|324         |ANGOLA                                                   |\n",
      "|529         |ANGUILLA                                                 |\n",
      "|518         |ANTIGUA-BARBUDA                                          |\n",
      "|687         |ARGENTINA                                                |\n",
      "|151         |ARMENIA                                                  |\n",
      "+------------+---------------------------------------------------------+\n",
      "only showing top 10 rows\n",
      "\n"
     ]
    }
   ],
   "source": [
    "# Reading City Codes\n",
    "df_country_codes = spark.read.option(\"header\", True).csv(\"country_codes.csv\")\n",
    "df_country_codes.createOrReplaceTempView(\"country_codes\")\n",
    "df_country_codes.printSchema()\n",
    "df_country_codes.show(10, False)"
   ]
  },
  {
   "cell_type": "markdown",
   "metadata": {
    "editable": true
   },
   "source": [
    "### Step 3: Define the Data Model\n",
    "#### 3.1 Conceptual Data Model\n",
    "\n",
    "This Data Model consists of a Star Schema with a Fact table and multiple dimension tables as mentioned below.\n",
    "\n",
    "#### Dimension tables\n",
    "\n",
    "#### dim_airport\n",
    "\n",
    "airport_key (PK), airport_code, airport_type, airport_name, elevation_ft, continent, iso_country, iso_region, municipality, gps_code, iata_code, local_code, x_coordinate, y_coordinate\n",
    "\n",
    "#### dim_demographics\n",
    "\n",
    "demographics_key (PK), city_name, state_name, state_code, median_age, male_population, female_population, total_population, num_of_veterans, foreign_born, avg_household_size, race, count\n",
    "\n",
    "#### dim_traveler\n",
    "\n",
    "traveler_key (PK), age, gender, birth_year\n",
    "\n",
    "#### dim_temperature\n",
    "\n",
    "temperature_key (PK), date, avg_temp, avg_temp_uncertainty, city_name, country_code, country_name, latitude, longitude\n",
    "\n",
    "#### Fact Table\n",
    "\n",
    "#### fact_immigration\n",
    "\n",
    "immigration_key (PK), airport_key (FK), demographics_key (FK), traveler_key (FK), temperature_key (FK), travel_mode, visa_type, travel_purpose, airline, flight_number, arrival_date, departure_date\n",
    "\n",
    "\n",
    "#### 3.2 Mapping Out Data Pipelines\n",
    "\n",
    "* Read input data from multiple sources.\n",
    "* Clean the input data.\n",
    "* Create and populate the airport dimension table.\n",
    "* Create and populate the demographics dimension table.\n",
    "* Create and populate the traveler dimension table.\n",
    "* Create and populate the temperature dimension table.\n",
    "* Create and populate the immigration fact table.\n",
    "* Perform data quality checks on the data.\n",
    "\n"
   ]
  },
  {
   "cell_type": "markdown",
   "metadata": {
    "editable": true
   },
   "source": [
    "### Step 4: Run Pipelines to Model the Data \n",
    "#### 4.1 Create the data model\n",
    "\n",
    "Build the data pipelines to create the data model.\n"
   ]
  },
  {
   "cell_type": "code",
   "execution_count": 14,
   "metadata": {
    "editable": true
   },
   "outputs": [],
   "source": [
    "# Output paths for dimension and fact tables\n",
    "dim_output_path = \"dim_tables/\"\n",
    "fact_output_path = \"fact_tables/\""
   ]
  },
  {
   "cell_type": "code",
   "execution_count": 15,
   "metadata": {
    "editable": true
   },
   "outputs": [],
   "source": [
    "def dim_airport(input_df, output_path):\n",
    "    \"\"\"\n",
    "    This function takes the raw data for airport codes as input and creates a dimension table for airports.\n",
    "    It returns the dataframe for the dimension table back to the calling function.\n",
    "    \n",
    "    :param input_df: Input Spark Dataframe for airport codes.\n",
    "    :param output_path: Output Spark Dataframe for airport dimension table.\n",
    "    \"\"\"\n",
    "    \n",
    "    input_df.createOrReplaceTempView(\"airport_staging\")\n",
    "    \n",
    "    sql_query = \"\"\"\n",
    "        \n",
    "        WITH cte_airport \n",
    "        AS (\n",
    "            SELECT  DISTINCT ident AS airport_code, \n",
    "                    type AS airport_type, \n",
    "                    name AS airport_name, \n",
    "                    CAST(elevation_ft AS BIGINT) AS elevation_ft, \n",
    "                    continent AS continent, \n",
    "                    iso_country AS iso_country,\n",
    "                    split(iso_region, '-')[1] AS iso_region,\n",
    "                    municipality AS municipality, \n",
    "                    gps_code AS gps_code,\n",
    "                    iata_code AS iata_code,\n",
    "                    local_code AS local_code,\n",
    "                    CAST(split(coordinates,',')[0] AS DOUBLE) AS x_coordinate,\n",
    "                    CAST(split(coordinates,',')[1] AS DOUBLE) AS y_coordinate\n",
    "            FROM airport_staging\n",
    "        )\n",
    "        \n",
    "        SELECT  monotonically_increasing_id() AS airport_key,\n",
    "                airport_code, \n",
    "                airport_type, \n",
    "                airport_name, \n",
    "                elevation_ft, \n",
    "                continent, \n",
    "                iso_country,\n",
    "                iso_region,\n",
    "                municipality, \n",
    "                gps_code,\n",
    "                iata_code,\n",
    "                local_code,\n",
    "                x_coordinate,\n",
    "                y_coordinate\n",
    "        FROM  cte_airport \n",
    "        LIMIT 5000\n",
    "        \n",
    "    \"\"\"\n",
    "    \n",
    "    output_df = spark.sql(sql_query)\n",
    "    \n",
    "    output_df.write.mode(\"overwrite\").parquet(output_path + \"dim_airport\")\n",
    "    \n",
    "    return output_df\n"
   ]
  },
  {
   "cell_type": "code",
   "execution_count": 16,
   "metadata": {
    "editable": true
   },
   "outputs": [],
   "source": [
    "df_dim_airport = dim_airport(df_airport_codes_raw, dim_output_path)"
   ]
  },
  {
   "cell_type": "code",
   "execution_count": 17,
   "metadata": {
    "editable": true
   },
   "outputs": [
    {
     "name": "stdout",
     "output_type": "stream",
     "text": [
      "root\n",
      " |-- airport_key: long (nullable = false)\n",
      " |-- airport_code: string (nullable = true)\n",
      " |-- airport_type: string (nullable = true)\n",
      " |-- airport_name: string (nullable = true)\n",
      " |-- elevation_ft: long (nullable = true)\n",
      " |-- continent: string (nullable = true)\n",
      " |-- iso_country: string (nullable = true)\n",
      " |-- iso_region: string (nullable = true)\n",
      " |-- municipality: string (nullable = true)\n",
      " |-- gps_code: string (nullable = true)\n",
      " |-- iata_code: string (nullable = true)\n",
      " |-- local_code: string (nullable = true)\n",
      " |-- x_coordinate: double (nullable = true)\n",
      " |-- y_coordinate: double (nullable = true)\n",
      "\n"
     ]
    }
   ],
   "source": [
    "df_dim_airport.printSchema()"
   ]
  },
  {
   "cell_type": "code",
   "execution_count": 18,
   "metadata": {
    "editable": true
   },
   "outputs": [
    {
     "name": "stdout",
     "output_type": "stream",
     "text": [
      "+-----------+------------+-------------+---------------------------------+------------+---------+-----------+----------+------------+--------+---------+----------+-------------------+------------------+\n",
      "|airport_key|airport_code|airport_type |airport_name                     |elevation_ft|continent|iso_country|iso_region|municipality|gps_code|iata_code|local_code|x_coordinate       |y_coordinate      |\n",
      "+-----------+------------+-------------+---------------------------------+------------+---------+-----------+----------+------------+--------+---------+----------+-------------------+------------------+\n",
      "|0          |03OR        |small_airport|Powwatka Ridge Airport           |3340        |NA       |US         |OR        |Troy        |03OR    |null     |03OR      |-117.48400115966797|45.85540008544922 |\n",
      "|1          |08FD        |small_airport|Sunniland Ranch Airport          |65          |NA       |US         |FL        |Okeechobee  |08FD    |null     |08FD      |-80.77279663085938 |27.363100051879883|\n",
      "|2          |09N         |small_airport|Airhaven Airport                 |450         |NA       |US         |NY        |Staatsburg  |09N     |null     |09N       |-73.8759994506836  |41.83259963989258 |\n",
      "|3          |09PA        |small_airport|Eagle Field                      |1780        |NA       |US         |PA        |Port Matilda|09PA    |null     |09PA      |-77.98809814453125 |40.82699966430664 |\n",
      "|4          |0TS1        |small_airport|Dooley Airport                   |650         |NA       |US         |TX        |Justin      |0TS1    |null     |0TS1      |-97.27249908447266 |33.09870147705078 |\n",
      "|5          |11GA        |closed       |De Kalb General Hospital Heliport|1012        |NA       |US         |GA        |Decatur     |null    |null     |null      |-84.282204         |33.7897           |\n",
      "|6          |13LS        |small_airport|Tee Brad's Airport               |12          |NA       |US         |LA        |Kaplan      |13LS    |null     |13LS      |-92.3855972290039  |29.993900299072266|\n",
      "|7          |17FA        |small_airport|Cotton Strip                     |18          |NA       |US         |FL        |La Belle    |17FA    |null     |17FA      |-81.535400390625   |26.71339988708496 |\n",
      "|8          |17OK        |closed       |J-B Airstrip                     |1142        |NA       |US         |OK        |Kremlin     |null    |null     |null      |-97.758698         |36.525002         |\n",
      "|9          |1MI7        |closed       |Thompson Airport                 |857         |NA       |US         |MI        |Selkirk     |null    |null     |null      |-84.066704         |44.3167           |\n",
      "+-----------+------------+-------------+---------------------------------+------------+---------+-----------+----------+------------+--------+---------+----------+-------------------+------------------+\n",
      "only showing top 10 rows\n",
      "\n"
     ]
    }
   ],
   "source": [
    "df_dim_airport.show(10,False)"
   ]
  },
  {
   "cell_type": "code",
   "execution_count": 19,
   "metadata": {
    "editable": true
   },
   "outputs": [],
   "source": [
    "df_dim_airport.createOrReplaceTempView(\"dim_airport\")"
   ]
  },
  {
   "cell_type": "code",
   "execution_count": 20,
   "metadata": {
    "editable": true
   },
   "outputs": [
    {
     "data": {
      "text/plain": [
       "5000"
      ]
     },
     "execution_count": 20,
     "metadata": {},
     "output_type": "execute_result"
    }
   ],
   "source": [
    "df_dim_airport.count()"
   ]
  },
  {
   "cell_type": "code",
   "execution_count": 21,
   "metadata": {
    "editable": true
   },
   "outputs": [],
   "source": [
    "def dim_demographics(input_df, output_path):\n",
    "    \"\"\"\n",
    "    This function takes the raw data for demographics as input and creates a dimension table for demographics.\n",
    "    It returns the dataframe for the dimension table back to the calling function.\n",
    "    \n",
    "    :param input_df: Input Spark Dataframe for demographics.\n",
    "    :param output_path: Output Spark Dataframe for demographics dimension table.\n",
    "    \"\"\"\n",
    "    \n",
    "    input_df.createOrReplaceTempView(\"demographics_staging\")\n",
    "    \n",
    "    sql_query = \"\"\"\n",
    "    \n",
    "        WITH cte_demographics \n",
    "        AS (\n",
    "            SELECT  DISTINCT city AS city_name, \n",
    "                    state AS state_name, \n",
    "                    `state code` AS state_code,\n",
    "                    CAST(`median age` AS DOUBLE) AS median_age, \n",
    "                    CAST(`male population` AS BIGINT) AS male_population, \n",
    "                    CAST(`female population` AS BIGINT) AS female_population, \n",
    "                    CAST(`total population` AS BIGINT) AS total_population, \n",
    "                    CAST(`number of veterans` AS BIGINT) AS num_of_veterans, \n",
    "                    CAST(`foreign-born` AS BIGINT) AS foreign_born, \n",
    "                    CAST(`average household size` AS FLOAT) AS avg_household_size, \n",
    "                    race, \n",
    "                    CAST(count AS BIGINT) AS count\n",
    "            FROM demographics_staging\n",
    "        )\n",
    "        \n",
    "        SELECT  monotonically_increasing_id() AS demographics_key,\n",
    "                city_name, \n",
    "                state_name, \n",
    "                state_code,\n",
    "                median_age, \n",
    "                male_population, \n",
    "                female_population, \n",
    "                total_population, \n",
    "                num_of_veterans, \n",
    "                foreign_born, \n",
    "                avg_household_size, \n",
    "                race, \n",
    "                count\n",
    "        FROM cte_demographics\n",
    "        LIMIT 5000\n",
    "           \n",
    "    \"\"\"\n",
    "    \n",
    "    output_df = spark.sql(sql_query)\n",
    "    \n",
    "    output_df.write.mode(\"overwrite\").parquet(output_path + \"dim_demographics\")\n",
    "\n",
    "    return output_df\n"
   ]
  },
  {
   "cell_type": "code",
   "execution_count": 22,
   "metadata": {
    "editable": true
   },
   "outputs": [],
   "source": [
    "df_dim_demographics = dim_demographics(df_demographics_raw, dim_output_path)"
   ]
  },
  {
   "cell_type": "code",
   "execution_count": 23,
   "metadata": {
    "editable": true
   },
   "outputs": [],
   "source": [
    "df_dim_demographics.createOrReplaceTempView(\"dim_demographics\")"
   ]
  },
  {
   "cell_type": "code",
   "execution_count": 24,
   "metadata": {
    "editable": true
   },
   "outputs": [
    {
     "name": "stdout",
     "output_type": "stream",
     "text": [
      "root\n",
      " |-- demographics_key: long (nullable = false)\n",
      " |-- city_name: string (nullable = true)\n",
      " |-- state_name: string (nullable = true)\n",
      " |-- state_code: string (nullable = true)\n",
      " |-- median_age: double (nullable = true)\n",
      " |-- male_population: long (nullable = true)\n",
      " |-- female_population: long (nullable = true)\n",
      " |-- total_population: long (nullable = true)\n",
      " |-- num_of_veterans: long (nullable = true)\n",
      " |-- foreign_born: long (nullable = true)\n",
      " |-- avg_household_size: float (nullable = true)\n",
      " |-- race: string (nullable = true)\n",
      " |-- count: long (nullable = true)\n",
      "\n"
     ]
    }
   ],
   "source": [
    "df_dim_demographics.printSchema()"
   ]
  },
  {
   "cell_type": "code",
   "execution_count": 25,
   "metadata": {
    "editable": true
   },
   "outputs": [
    {
     "name": "stdout",
     "output_type": "stream",
     "text": [
      "+----------------+----------+----------+----------+----------+---------------+-----------------+----------------+---------------+------------+------------------+---------------------------------+------+\n",
      "|demographics_key|city_name |state_name|state_code|median_age|male_population|female_population|total_population|num_of_veterans|foreign_born|avg_household_size|race                             |count |\n",
      "+----------------+----------+----------+----------+----------+---------------+-----------------+----------------+---------------+------------+------------------+---------------------------------+------+\n",
      "|0               |South Bend|Indiana   |IN        |32.4      |50483          |53274            |103757          |3708           |8779        |2.72              |Asian                            |1788  |\n",
      "|1               |Redding   |California|CA        |38.8      |42530          |49049            |91579           |6926           |5181        |2.42              |Asian                            |5271  |\n",
      "|2               |Lynchburg |Virginia  |VA        |28.7      |38614          |41198            |79812           |4322           |4364        |2.48              |Hispanic or Latino               |2689  |\n",
      "|3               |Richardson|Texas     |TX        |35.5      |54676          |56151            |110827          |4797           |29579       |2.83              |White                            |76116 |\n",
      "|4               |Fort Wayne|Indiana   |IN        |34.7      |124815         |133329           |258144          |13539          |19146       |2.45              |American Indian and Alaska Native|3577  |\n",
      "|5               |Arvada    |Colorado  |CO        |41.0      |54870          |60165            |115035          |8930           |4921        |2.49              |Black or African-American        |2985  |\n",
      "|6               |Norman    |Oklahoma  |OK        |30.9      |59483          |60814            |120297          |5578           |8705        |2.47              |White                            |106409|\n",
      "|7               |Medford   |Oregon    |OR        |38.6      |39606          |40189            |79795           |6632           |6185        |2.65              |Asian                            |2135  |\n",
      "|8               |Norfolk   |Virginia  |VA        |30.2      |128917         |117476           |246393          |29445          |16702       |2.51              |Asian                            |11854 |\n",
      "|9               |Corona    |California|CA        |37.1      |79749          |84493            |164242          |7709           |42131       |2.97              |Asian                            |21044 |\n",
      "+----------------+----------+----------+----------+----------+---------------+-----------------+----------------+---------------+------------+------------------+---------------------------------+------+\n",
      "only showing top 10 rows\n",
      "\n"
     ]
    }
   ],
   "source": [
    "df_dim_demographics.show(10, False)"
   ]
  },
  {
   "cell_type": "code",
   "execution_count": 26,
   "metadata": {
    "editable": true
   },
   "outputs": [],
   "source": [
    "def dim_traveler(input_df, output_path):\n",
    "    \"\"\"\n",
    "    This function takes the raw data for immigration as input and creates a dimension table for traveler data.\n",
    "    It returns the dataframe for the dimension table back to the calling function.\n",
    "    \n",
    "    :param input_df: Input Spark Dataframe for immigration.\n",
    "    :param output_path: Output Spark Dataframe for traveler dimension table.\n",
    "    \"\"\"\n",
    "    \n",
    "    input_df.createOrReplaceTempView(\"immigration_staging\")\n",
    "\n",
    "    sql_query = \"\"\"\n",
    "    \n",
    "        WITH traveler_cte AS\n",
    "        (\n",
    "            SELECT  DISTINCT COALESCE(CAST(I94bir AS INTEGER), 0) AS age,\n",
    "                    COALESCE(gender, 'N/A') AS gender,\n",
    "                    COALESCE(CAST(biryear AS INTEGER), 0) AS birth_year\n",
    "            FROM immigration_staging\n",
    "        )\n",
    "        SELECT  CONCAT(age, gender, birth_year) AS traveler_key,\n",
    "                age,\n",
    "                gender,\n",
    "                birth_year\n",
    "        FROM traveler_cte\n",
    "        LIMIT 5000\n",
    "        \n",
    "    \"\"\"\n",
    "\n",
    "    output_df = spark.sql(sql_query)\n",
    "\n",
    "    output_df.write.mode(\"overwrite\").parquet(output_path + \"dim_traveler\")\n",
    "\n",
    "    return output_df\n"
   ]
  },
  {
   "cell_type": "code",
   "execution_count": 27,
   "metadata": {
    "editable": true
   },
   "outputs": [],
   "source": [
    "df_dim_traveler = dim_traveler(df_immigration, dim_output_path)"
   ]
  },
  {
   "cell_type": "code",
   "execution_count": 28,
   "metadata": {
    "editable": true
   },
   "outputs": [],
   "source": [
    "df_dim_traveler.createOrReplaceTempView(\"dim_traveler\")"
   ]
  },
  {
   "cell_type": "code",
   "execution_count": 29,
   "metadata": {
    "editable": true
   },
   "outputs": [
    {
     "name": "stdout",
     "output_type": "stream",
     "text": [
      "root\n",
      " |-- traveler_key: string (nullable = false)\n",
      " |-- age: integer (nullable = false)\n",
      " |-- gender: string (nullable = false)\n",
      " |-- birth_year: integer (nullable = false)\n",
      "\n"
     ]
    }
   ],
   "source": [
    "df_dim_traveler.printSchema()"
   ]
  },
  {
   "cell_type": "code",
   "execution_count": 30,
   "metadata": {
    "editable": true
   },
   "outputs": [
    {
     "name": "stdout",
     "output_type": "stream",
     "text": [
      "+------------+---+------+----------+\n",
      "|traveler_key|age|gender|birth_year|\n",
      "+------------+---+------+----------+\n",
      "|53F1963     |53 |F     |1963      |\n",
      "|60F1956     |60 |F     |1956      |\n",
      "|46M1970     |46 |M     |1970      |\n",
      "|58F1958     |58 |F     |1958      |\n",
      "|73M1943     |73 |M     |1943      |\n",
      "|62F1954     |62 |F     |1954      |\n",
      "|17F1999     |17 |F     |1999      |\n",
      "|28F1988     |28 |F     |1988      |\n",
      "|31M1985     |31 |M     |1985      |\n",
      "|47N/A1969   |47 |N/A   |1969      |\n",
      "+------------+---+------+----------+\n",
      "only showing top 10 rows\n",
      "\n"
     ]
    }
   ],
   "source": [
    "df_dim_traveler.show(10, False)"
   ]
  },
  {
   "cell_type": "code",
   "execution_count": 31,
   "metadata": {
    "editable": true
   },
   "outputs": [],
   "source": [
    "def dim_temperature(input_df, output_path):\n",
    "    \"\"\"\n",
    "    This function takes the raw data for temperature as input and creates a dimension table for temperature data.\n",
    "    It returns the dataframe for the dimension table back to the calling function.\n",
    "    \n",
    "    :param input_df: Input Spark Dataframe for temperature.\n",
    "    :param output_path: Output Spark Dataframe for temperature dimension table.\n",
    "    \"\"\"\n",
    "    \n",
    "    \n",
    "    input_df.createOrReplaceTempView(\"dim_temperature\")\n",
    "\n",
    "    sql_query = \"\"\"\n",
    "    \n",
    "        WITH temperature_cte AS\n",
    "        (\n",
    "            SELECT  DISTINCT CAST(dt AS DATE) AS date,\n",
    "                    CAST(AverageTemperature AS DOUBLE) AS avg_temp,\n",
    "                    CAST(AverageTemperatureUncertainty AS DOUBLE) AS avg_temp_uncertainty,\n",
    "                    CAST(City AS STRING) AS city_name,\n",
    "                    CAST(cc.country_code AS INTEGER) AS country_code, \n",
    "                    CAST(Country AS STRING) AS country_name,\n",
    "                    CAST(Latitude AS DOUBLE) AS latitude,\n",
    "                    CAST(Longitude AS DOUBLE) AS longitude \n",
    "            FROM dim_temperature dtemp\n",
    "            LEFT JOIN country_codes cc ON UPPER(dtemp.Country) = UPPER(cc.country_name) \n",
    "        )\n",
    "        SELECT  monotonically_increasing_id() AS temperature_key,\n",
    "                date,\n",
    "                avg_temp,\n",
    "                avg_temp_uncertainty,\n",
    "                city_name,\n",
    "                country_code,\n",
    "                country_name,\n",
    "                latitude,\n",
    "                longitude \n",
    "        FROM temperature_cte\n",
    "        LIMIT 5000\n",
    "        \n",
    "    \"\"\"\n",
    "\n",
    "    output_df = spark.sql(sql_query)\n",
    "\n",
    "    output_df.write.mode(\"overwrite\").parquet(output_path + \"dim_temperature\")\n",
    "\n",
    "    return output_df\n"
   ]
  },
  {
   "cell_type": "code",
   "execution_count": 32,
   "metadata": {
    "editable": true
   },
   "outputs": [],
   "source": [
    "df_dim_temperature = dim_temperature(df_temperature, dim_output_path)"
   ]
  },
  {
   "cell_type": "code",
   "execution_count": 33,
   "metadata": {
    "editable": true
   },
   "outputs": [],
   "source": [
    "df_dim_temperature.createOrReplaceTempView(\"dim_temperature\")"
   ]
  },
  {
   "cell_type": "code",
   "execution_count": 34,
   "metadata": {
    "editable": true
   },
   "outputs": [
    {
     "name": "stdout",
     "output_type": "stream",
     "text": [
      "root\n",
      " |-- temperature_key: long (nullable = false)\n",
      " |-- date: date (nullable = true)\n",
      " |-- avg_temp: double (nullable = true)\n",
      " |-- avg_temp_uncertainty: double (nullable = true)\n",
      " |-- city_name: string (nullable = true)\n",
      " |-- country_code: integer (nullable = true)\n",
      " |-- country_name: string (nullable = true)\n",
      " |-- latitude: double (nullable = true)\n",
      " |-- longitude: double (nullable = true)\n",
      "\n"
     ]
    }
   ],
   "source": [
    "df_dim_temperature.printSchema()"
   ]
  },
  {
   "cell_type": "code",
   "execution_count": 35,
   "metadata": {
    "editable": true
   },
   "outputs": [
    {
     "name": "stdout",
     "output_type": "stream",
     "text": [
      "+---------------+----------+------------------+--------------------+---------+------------+------------+--------+---------+\n",
      "|temperature_key|date      |avg_temp          |avg_temp_uncertainty|city_name|country_code|country_name|latitude|longitude|\n",
      "+---------------+----------+------------------+--------------------+---------+------------+------------+--------+---------+\n",
      "|0              |1750-01-01|1.699             |1.013               |Århus    |108         |Denmark     |null    |null     |\n",
      "|1              |1758-05-01|12.793            |6.694               |Århus    |108         |Denmark     |null    |null     |\n",
      "|2              |1800-01-01|-3.167            |2.315               |Århus    |108         |Denmark     |null    |null     |\n",
      "|3              |1818-08-01|15.098999999999998|1.29                |Århus    |108         |Denmark     |null    |null     |\n",
      "|4              |1847-05-01|11.06             |1.088               |Århus    |108         |Denmark     |null    |null     |\n",
      "|5              |1860-09-01|12.447000000000001|0.66                |Århus    |108         |Denmark     |null    |null     |\n",
      "|6              |1876-10-01|8.697000000000001 |0.608               |Århus    |108         |Denmark     |null    |null     |\n",
      "|7              |1897-09-01|12.482000000000001|0.405               |Århus    |108         |Denmark     |null    |null     |\n",
      "|8              |1910-11-01|2.36              |0.303               |Århus    |108         |Denmark     |null    |null     |\n",
      "|9              |1923-01-01|2.6210000000000004|0.43700000000000006 |Århus    |108         |Denmark     |null    |null     |\n",
      "|10             |1943-03-01|5.064             |0.42200000000000004 |Århus    |108         |Denmark     |null    |null     |\n",
      "|11             |1951-02-01|0.6290000000000001|0.506               |Århus    |108         |Denmark     |null    |null     |\n",
      "|12             |1958-12-01|1.396             |0.40399999999999997 |Århus    |108         |Denmark     |null    |null     |\n",
      "|13             |1962-04-01|6.340999999999998 |0.182               |Århus    |108         |Denmark     |null    |null     |\n",
      "|14             |1993-01-01|2.276             |0.28600000000000003 |Århus    |108         |Denmark     |null    |null     |\n",
      "|15             |1758-09-01|17.188000000000002|2.5660000000000003  |Çorlu    |264         |Turkey      |null    |null     |\n",
      "|16             |1762-09-01|18.395            |5.5889999999999995  |Çorlu    |264         |Turkey      |null    |null     |\n",
      "|17             |1766-03-01|7.874             |2.698               |Çorlu    |264         |Turkey      |null    |null     |\n",
      "|18             |1790-02-01|5.4               |3.858               |Çorlu    |264         |Turkey      |null    |null     |\n",
      "|19             |1806-01-01|6.1339999999999995|2.426               |Çorlu    |264         |Turkey      |null    |null     |\n",
      "+---------------+----------+------------------+--------------------+---------+------------+------------+--------+---------+\n",
      "only showing top 20 rows\n",
      "\n"
     ]
    }
   ],
   "source": [
    "df_dim_temperature.show(20, False)"
   ]
  },
  {
   "cell_type": "code",
   "execution_count": 43,
   "metadata": {
    "editable": true
   },
   "outputs": [],
   "source": [
    "def fact_immigration(input_df, output_path):\n",
    "    \"\"\"\n",
    "    This function takes the raw data for immigration as input and creates a fact table containing United States immigration data.\n",
    "    It returns the dataframe for the fact table back to the calling function.\n",
    "    \n",
    "    :param input_df: Input Spark Dataframe for immigration.\n",
    "    :param output_path: Output Spark Dataframe for immigration fact table.\n",
    "    \"\"\"\n",
    "\n",
    "    input_df.createOrReplaceTempView(\"immigration_staging\")\n",
    "\n",
    "    def convert_sas_timestamp(sas_timestamp):\n",
    "        converted_timestamp = pd.to_timedelta(20566.0, unit='D') + pd.Timestamp('1960-1-1')\n",
    "        return str(converted_timestamp)\n",
    "    \n",
    "    spark.udf.register(\"convert_sas_timestamp\", convert_sas_timestamp)\n",
    "    \n",
    "    sql_query = \"\"\"\n",
    "    \n",
    "        SELECT  monotonically_increasing_id() AS immigration_key,\n",
    "                COALESCE(da.airport_key, -1) AS airport_key, \n",
    "                COALESCE(demo.demographics_key, -1) AS demographics_key,\n",
    "                COALESCE(dt.traveler_key, -1) AS traveler_key,\n",
    "                COALESCE(dtemp.temperature_key, -1) AS temperature_key,\n",
    "                is.i94mode AS travel_mode, \n",
    "                is.visatype AS visa_type, \n",
    "                is.occup AS travel_purpose, \n",
    "                is.airline AS airline, \n",
    "                is.fltno AS flight_number,\n",
    "                date(convert_sas_timestamp(is.arrdate)) AS arrival_date,\n",
    "                date(convert_sas_timestamp(is.depdate)) AS departure_date\n",
    "        FROM immigration_staging is\n",
    "        LEFT JOIN dim_airport da ON is.i94port = da.airport_code\n",
    "        LEFT JOIN dim_demographics demo ON is.I94addr = demo.state_code\n",
    "        LEFT JOIN dim_traveler dt\n",
    "            ON COALESCE(CAST(is.I94bir AS INTEGER), 0) = dt.age\n",
    "              AND COALESCE(is.gender, 'N/A') = dt.gender\n",
    "              AND COALESCE(CAST(is.biryear AS INTEGER), 0) = dt.birth_year\n",
    "        LEFT JOIN dim_temperature dtemp \n",
    "            ON is.i94cit = dtemp.country_code\n",
    "                AND ( date(convert_sas_timestamp(is.arrdate)) = dtemp.date\n",
    "                      OR \n",
    "                      date(convert_sas_timestamp(is.depdate)) = dtemp.date\n",
    "                      )\n",
    "            \n",
    "    \"\"\"\n",
    "    \n",
    "    output_df = spark.sql(sql_query)\n",
    "    \n",
    "    output_df.write.mode(\"overwrite\").parquet(output_path + \"fact_immigration\")\n",
    "    \n",
    "    return output_df\n"
   ]
  },
  {
   "cell_type": "code",
   "execution_count": 44,
   "metadata": {
    "editable": true
   },
   "outputs": [],
   "source": [
    "df_fact_immigration = fact_immigration(df_immigration, fact_output_path)"
   ]
  },
  {
   "cell_type": "code",
   "execution_count": 45,
   "metadata": {
    "editable": true
   },
   "outputs": [],
   "source": [
    "df_fact_immigration.createOrReplaceTempView(\"fact_immigration\")"
   ]
  },
  {
   "cell_type": "code",
   "execution_count": 46,
   "metadata": {
    "editable": true
   },
   "outputs": [
    {
     "name": "stdout",
     "output_type": "stream",
     "text": [
      "root\n",
      " |-- immigration_key: long (nullable = false)\n",
      " |-- airport_key: long (nullable = false)\n",
      " |-- demographics_key: long (nullable = false)\n",
      " |-- traveler_key: string (nullable = false)\n",
      " |-- temperature_key: long (nullable = false)\n",
      " |-- travel_mode: double (nullable = true)\n",
      " |-- visa_type: string (nullable = true)\n",
      " |-- travel_purpose: string (nullable = true)\n",
      " |-- airline: string (nullable = true)\n",
      " |-- flight_number: string (nullable = true)\n",
      " |-- arrival_date: date (nullable = true)\n",
      " |-- departure_date: date (nullable = true)\n",
      "\n"
     ]
    }
   ],
   "source": [
    "df_fact_immigration.printSchema()"
   ]
  },
  {
   "cell_type": "code",
   "execution_count": 47,
   "metadata": {
    "editable": true
   },
   "outputs": [
    {
     "name": "stdout",
     "output_type": "stream",
     "text": [
      "+---------------+-----------+----------------+------------+---------------+-----------+---------+--------------+-------+-------------+------------+--------------+\n",
      "|immigration_key|airport_key|demographics_key|traveler_key|temperature_key|travel_mode|visa_type|travel_purpose|airline|flight_number|arrival_date|departure_date|\n",
      "+---------------+-----------+----------------+------------+---------------+-----------+---------+--------------+-------+-------------+------------+--------------+\n",
      "|0              |-1         |1649267441676   |53F1963     |-1             |1.0        |WT       |null          |LH     |00402        |2016-04-22  |2016-04-22    |\n",
      "|1              |-1         |1649267441671   |53F1963     |-1             |1.0        |WT       |null          |LH     |00402        |2016-04-22  |2016-04-22    |\n",
      "|2              |-1         |1623497637899   |53F1963     |-1             |1.0        |WT       |null          |LH     |00402        |2016-04-22  |2016-04-22    |\n",
      "|3              |-1         |1589137899536   |53F1963     |-1             |1.0        |WT       |null          |LH     |00402        |2016-04-22  |2016-04-22    |\n",
      "|4              |-1         |1589137899528   |53F1963     |-1             |1.0        |WT       |null          |LH     |00402        |2016-04-22  |2016-04-22    |\n",
      "|5              |-1         |1563368095765   |53F1963     |-1             |1.0        |WT       |null          |LH     |00402        |2016-04-22  |2016-04-22    |\n",
      "|6              |-1         |1503238553612   |53F1963     |-1             |1.0        |WT       |null          |LH     |00402        |2016-04-22  |2016-04-22    |\n",
      "|7              |-1         |1503238553604   |53F1963     |-1             |1.0        |WT       |null          |LH     |00402        |2016-04-22  |2016-04-22    |\n",
      "|8              |-1         |1460288880640   |53F1963     |-1             |1.0        |WT       |null          |LH     |00402        |2016-04-22  |2016-04-22    |\n",
      "|9              |-1         |1374389534722   |53F1963     |-1             |1.0        |WT       |null          |LH     |00402        |2016-04-22  |2016-04-22    |\n",
      "+---------------+-----------+----------------+------------+---------------+-----------+---------+--------------+-------+-------------+------------+--------------+\n",
      "only showing top 10 rows\n",
      "\n"
     ]
    }
   ],
   "source": [
    "df_fact_immigration.show(10, False)"
   ]
  },
  {
   "cell_type": "markdown",
   "metadata": {
    "editable": true
   },
   "source": [
    "#### 4.2 Data Quality Checks\n",
    "\n",
    "* Check the total counts in each dimension and fact tables are greater than zero to ensure data has been loaded properly.\n",
    "* Check for duplicates in each table."
   ]
  },
  {
   "cell_type": "code",
   "execution_count": 57,
   "metadata": {
    "editable": true
   },
   "outputs": [],
   "source": [
    "# Perform quality checks for data completeness and data accuracy.\n",
    "\n",
    "def data_quality_checks(input_df, table_name):\n",
    "    \"\"\"\n",
    "    This function takes the input dataframe and the table name and checks for the count of records in each table \n",
    "    to validate data completeness and checks if duplicates exist in the table for data quality.\n",
    "    \n",
    "    :param input_df: Input Spark Dataframe the table.\n",
    "    :param table_name: Name of the table to be validated.\n",
    "    \"\"\"\n",
    "    \n",
    "    print(\"------------------------------------------------------\")\n",
    "    print(\"Tests for table {}\".format(table_name))\n",
    "    print(\"------------------------------------------------------\")\n",
    "    record_count = input_df.count()\n",
    "    record_count_dedup = input_df.dropDuplicates().count()\n",
    "    \n",
    "    print(\"Check for Data Completeness\")\n",
    "    if record_count > 0:\n",
    "        print(\"Test: Passed ( Count of records in table {} = {} )\".format(table_name, record_count))\n",
    "    else:\n",
    "        print(\"Test: Failed ( Count of records in table {} = {} )\".format(table_name, record_count))\n",
    "        \n",
    "    print(\"Check for Duplicate Records\")\n",
    "    if record_count == record_count_dedup:\n",
    "        print(\"Test: Passed ( No duplicates found in table {} )\".format(table_name))\n",
    "    else:\n",
    "        print(\"Test: Failed ( {} Duplicates found in table {} )\".format(abs(record_count - record_count_dedup), table_name))\n"
   ]
  },
  {
   "cell_type": "code",
   "execution_count": 58,
   "metadata": {
    "editable": true
   },
   "outputs": [
    {
     "name": "stdout",
     "output_type": "stream",
     "text": [
      "------------------------------------------------------\n",
      "Tests for table dim_airport\n",
      "------------------------------------------------------\n",
      "Check for Data Completeness\n",
      "Test: Passed ( Count of records in table dim_airport = 5000 )\n",
      "Check for Duplicate Records\n",
      "Test: Passed ( No duplicates found in table dim_airport )\n"
     ]
    }
   ],
   "source": [
    "data_quality_checks(df_dim_airport, \"dim_airport\")"
   ]
  },
  {
   "cell_type": "code",
   "execution_count": 59,
   "metadata": {
    "editable": true
   },
   "outputs": [
    {
     "name": "stdout",
     "output_type": "stream",
     "text": [
      "------------------------------------------------------\n",
      "Tests for table dim_demographics\n",
      "------------------------------------------------------\n",
      "Check for Data Completeness\n",
      "Test: Passed ( Count of records in table dim_demographics = 2891 )\n",
      "Check for Duplicate Records\n",
      "Test: Passed ( No duplicates found in table dim_demographics )\n"
     ]
    }
   ],
   "source": [
    "data_quality_checks(df_dim_demographics, \"dim_demographics\")"
   ]
  },
  {
   "cell_type": "code",
   "execution_count": 60,
   "metadata": {
    "editable": true
   },
   "outputs": [
    {
     "name": "stdout",
     "output_type": "stream",
     "text": [
      "------------------------------------------------------\n",
      "Tests for table dim_traveler\n",
      "------------------------------------------------------\n",
      "Check for Data Completeness\n",
      "Test: Passed ( Count of records in table dim_traveler = 250 )\n",
      "Check for Duplicate Records\n",
      "Test: Passed ( No duplicates found in table dim_traveler )\n"
     ]
    }
   ],
   "source": [
    "data_quality_checks(df_dim_traveler, \"dim_traveler\")"
   ]
  },
  {
   "cell_type": "code",
   "execution_count": 61,
   "metadata": {
    "editable": true
   },
   "outputs": [
    {
     "name": "stdout",
     "output_type": "stream",
     "text": [
      "------------------------------------------------------\n",
      "Tests for table dim_temperature\n",
      "------------------------------------------------------\n",
      "Check for Data Completeness\n",
      "Test: Passed ( Count of records in table dim_temperature = 5000 )\n",
      "Check for Duplicate Records\n",
      "Test: Passed ( No duplicates found in table dim_temperature )\n"
     ]
    }
   ],
   "source": [
    "data_quality_checks(df_dim_temperature, \"dim_temperature\")"
   ]
  },
  {
   "cell_type": "code",
   "execution_count": null,
   "metadata": {
    "editable": true
   },
   "outputs": [
    {
     "name": "stdout",
     "output_type": "stream",
     "text": [
      "------------------------------------------------------\n",
      "Tests for table fact_immigration\n",
      "------------------------------------------------------\n"
     ]
    }
   ],
   "source": [
    "data_quality_checks(df_fact_immigration, \"fact_immigration\")"
   ]
  },
  {
   "cell_type": "markdown",
   "metadata": {
    "editable": true
   },
   "source": [
    "#### 4.3 Data dictionary \n",
    "\n",
    "    dim_airport\n",
    "\n",
    "    ----------------------------------------------------------------------------------------\n",
    "    | Column Name  | Data Type | Description                                               |\n",
    "    |--------------|-----------|-----------------------------------------------------------|\n",
    "    | airport_key  | long      | Primary Key for dimension table                           |\n",
    "    | airport_code | string    | Code assigned to each airport                             |\n",
    "    | airport_type | string    | Type of the airport                                       |\n",
    "    | airport_name | string    | Name of the airport                                       |\n",
    "    | elevation_ft | long      | Elevation in feet of the airport above sea level          |\n",
    "    | continent    | string    | Continent in which the airport is located                 |\n",
    "    | iso_country  | string    | Country in which the airport is located                   |\n",
    "    | iso_region   | string    | State in which the airport is located                     |\n",
    "    | municipality | string    | Name of the Municipality managing the airport             |\n",
    "    | gps_code     | string    | Code used to identify airport via GPS                     |\n",
    "    | iata_code    | string    | International Air Transportation Association Airport Code |\n",
    "    | local_code   | string    | Local airport code identifier                             |\n",
    "    | x_coordinate | double    | x coordinate of the exact airport location                |\n",
    "    | y_coordinate | double    | y coordinate of the exact airport location                |\n",
    "    ----------------------------------------------------------------------------------------\n",
    "\n",
    "    dim_demographics \n",
    "    \n",
    "    -------------------------------------------------------------------------------------------\n",
    "    | Column Name        | Data Type | Description                                            |\n",
    "    |--------------------|-----------|--------------------------------------------------------|\n",
    "    | demographics_key   | long      | Primary Key for dimension table                        |\n",
    "    | city_name          | string    | Name of the city                                       |\n",
    "    | state_name         | string    | Name of the state                                      |\n",
    "    | state_code         | string    | Code for each state                                    |\n",
    "    | median_age         | double    | Median age in the city                                 |\n",
    "    | male_population    | long      | Total male population in the city                      |\n",
    "    | female_population  | long      | Total female population in the city                    |\n",
    "    | total_population   | long      | Total population in the city                           |\n",
    "    | num_of_veterans    | long      | Total number of veterans in the city                   |\n",
    "    | foreign_born       | long      | Total number of people born outside the city           |\n",
    "    | avg_household_size | float     | Average number of people in each household in the city |\n",
    "    | race               | string    | Race of the people in the city                         |\n",
    "    | count              | long      | Count of people from a particular race in the city     |\n",
    "    -------------------------------------------------------------------------------------------\n",
    "\n",
    "    dim_traveler\n",
    "\n",
    "    --------------------------------------------------------------\n",
    "    | Column Name  | Data Type | Description                     |\n",
    "    |--------------|-----------|---------------------------------|\n",
    "    | traveler_key | string    | Primary Key for dimension table |\n",
    "    | age          | integer   | Age of the traveler             |\n",
    "    | gender       | string    | Gender of the traveler          |\n",
    "    | birth_year   | integer   | Year of birth of traveler       |\n",
    "    --------------------------------------------------------------\n",
    "    \n",
    "    dim_temperature\n",
    "    \n",
    "    ----------------------------------------------------------------------------------------\n",
    "    | Column Name          | Data Type | Description                                       |\n",
    "    |----------------------|-----------|---------------------------------------------------|\n",
    "    | temperature_key      | string    | Primary Key for dimension table                   |\n",
    "    | date                 | date      | Date on which temperature was recorded            |\n",
    "    | avg_temp             | double    | Average temperature                               |\n",
    "    | avg_temp_uncertainty | double    | Average uncertainty in temperature                |\n",
    "    | city_name            | string    | Name of the city in which temperature is recorded |\n",
    "    | country_code         | integer   | Code of the country                               |\n",
    "    | country_name         | string    | Name of the country                               |\n",
    "    | latitude             | double    | X Coordinate where temperature was measured       |\n",
    "    | longitude            | double    | Y Coordinate where temperature was measured       |\n",
    "    ----------------------------------------------------------------------------------------\n",
    "\n",
    "    fact_immigration\n",
    "    \n",
    "    ---------------------------------------------------------------------------\n",
    "    | Column Name      | Data Type | Description                              |\n",
    "    |------------------|-----------|------------------------------------------|\n",
    "    | immigration_key  | long      | Primary Key for dimension table          |\n",
    "    | airport_key      | long      | Foreign Key to dim_airport               |\n",
    "    | demographics_key | long      | Foreign Key to dim_demographics          |\n",
    "    | traveler_key     | string    | Foreign Key to dim_traveler              |\n",
    "    | temperature_key  | long      | Foreign Key to dim_temperature           |\n",
    "    | travel_mode      | double    | Mode of travel                           |\n",
    "    | visa_type        | string    | Type of Visa                             |\n",
    "    | travel_purpose   | string    | Purpose of travel                        |\n",
    "    | airline          | string    | Name of the airline                      |\n",
    "    | flight_number    | string    | Flight Number                            |\n",
    "    | arrival_date     | date      | Date of arrival into the United States   |\n",
    "    | departure_date   | date      | Date of departure from the United States |\n",
    "    ---------------------------------------------------------------------------\n",
    "    "
   ]
  },
  {
   "cell_type": "markdown",
   "metadata": {
    "editable": true
   },
   "source": [
    "#### Step 5: Complete Project Write Up"
   ]
  },
  {
   "cell_type": "markdown",
   "metadata": {
    "editable": true
   },
   "source": [
    "##### Rationale for the choice of tools and technologies for the project.\n",
    "Since the amount of data is going to be large and Apache Spark is being used for Data Processing at a fast speed. The cleaned and conformed data can be stored in S3. From there it can be made available to the users either via external tables in Redshift pointing to data in S3 or the data can be loaded to Redshift and made available as persistent tables in Redshift."
   ]
  },
  {
   "cell_type": "markdown",
   "metadata": {
    "editable": true
   },
   "source": [
    "##### Propose how often the data should be updated and why\n",
    "\n",
    "Since there is new immigration data that we get everyday, the data can be updated daily."
   ]
  },
  {
   "cell_type": "markdown",
   "metadata": {
    "editable": true
   },
   "source": [
    "##### Write a description of how you would approach the problem differently under the following scenarios:\n",
    "\n",
    "* The data was increased by 100x -  \n",
    "    If the data increases we can increase the number of core nodes on the EMR or any cluster on which the Spark job is running. We can configure the cluster to auto scale if the load on the cluster increases or downsize automatically based on the usage of the cluster.\n",
    "\n",
    "* The data populates a dashboard that must be updated on a daily basis by 7am every day - \n",
    "In order to support this we need a schedular to schedule and orchestrate the jobs. Apache Airflow can be used as a schedular to schedule jobs to populate the dimension tables and the fact tables daily at 7 AM.\n",
    "\n",
    "* The database needed to be accessed by 100+ people - \n",
    "The data can be made available in a database like Redshift which is ideal for analytical queries on a Star Schema."
   ]
  }
 ],
 "metadata": {
  "kernelspec": {
   "display_name": "Python 3",
   "language": "python",
   "name": "python3"
  },
  "language_info": {
   "codemirror_mode": {
    "name": "ipython",
    "version": 3
   },
   "file_extension": ".py",
   "mimetype": "text/x-python",
   "name": "python",
   "nbconvert_exporter": "python",
   "pygments_lexer": "ipython3",
   "version": "3.6.3"
  }
 },
 "nbformat": 4,
 "nbformat_minor": 4
}
